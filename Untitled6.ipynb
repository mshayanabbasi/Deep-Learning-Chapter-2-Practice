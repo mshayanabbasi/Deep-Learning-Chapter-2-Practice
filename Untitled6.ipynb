{
  "nbformat": 4,
  "nbformat_minor": 0,
  "metadata": {
    "colab": {
      "name": "Untitled6.ipynb",
      "version": "0.3.2",
      "views": {},
      "default_view": {},
      "provenance": [],
      "collapsed_sections": []
    },
    "kernelspec": {
      "name": "python3",
      "display_name": "Python 3"
    }
  },
  "cells": [
    {
      "metadata": {
        "id": "UDgid2ZubLuL",
        "colab_type": "code",
        "colab": {
          "autoexec": {
            "startup": false,
            "wait_interval": 0
          },
          "base_uri": "https://localhost:8080/",
          "height": 37
        },
        "outputId": "80911e65-0d60-4277-e923-3181918acdf3",
        "executionInfo": {
          "status": "ok",
          "timestamp": 1530811326814,
          "user_tz": -300,
          "elapsed": 17136,
          "user": {
            "displayName": "Muhammad Shayan",
            "photoUrl": "//lh6.googleusercontent.com/-OQHqCiutbHI/AAAAAAAAAAI/AAAAAAAAAmM/a_Irg7ovtCk/s50-c-k-no/photo.jpg",
            "userId": "117658589879094178010"
          }
        }
      },
      "cell_type": "code",
      "source": [
        "from keras.datasets import mnist\n",
        "(train_images, train_labels), (test_images, test_labels) = mnist.load_data()"
      ],
      "execution_count": 9,
      "outputs": []
    },
    {
      "metadata": {
        "id": "8IzYHeddbOCv",
        "colab_type": "code",
        "colab": {
          "autoexec": {
            "startup": false,
            "wait_interval": 0
          },
          "base_uri": "https://localhost:8080/",
          "height": 34
        },
        "outputId": "12d0083c-7ec6-49c6-f27c-aaef230a29f6",
        "executionInfo": {
          "status": "ok",
          "timestamp": 1530811340829,
          "user_tz": -300,
          "elapsed": 9498,
          "user": {
            "displayName": "Muhammad Shayan",
            "photoUrl": "//lh6.googleusercontent.com/-OQHqCiutbHI/AAAAAAAAAAI/AAAAAAAAAmM/a_Irg7ovtCk/s50-c-k-no/photo.jpg",
            "userId": "117658589879094178010"
          }
        }
      },
      "cell_type": "code",
      "source": [
        "train_images.shape"
      ],
      "execution_count": 10,
      "outputs": [
        {
          "output_type": "execute_result",
          "data": {
            "text/plain": [
              "(60000, 28, 28)"
            ]
          },
          "metadata": {
            "tags": []
          },
          "execution_count": 10
        }
      ]
    },
    {
      "metadata": {
        "id": "OyhY17m7bOJy",
        "colab_type": "code",
        "colab": {
          "autoexec": {
            "startup": false,
            "wait_interval": 0
          },
          "base_uri": "https://localhost:8080/",
          "height": 34
        },
        "outputId": "c8d041fa-8ab6-4289-da64-a1dc165f1be0",
        "executionInfo": {
          "status": "ok",
          "timestamp": 1530811359667,
          "user_tz": -300,
          "elapsed": 13054,
          "user": {
            "displayName": "Muhammad Shayan",
            "photoUrl": "//lh6.googleusercontent.com/-OQHqCiutbHI/AAAAAAAAAAI/AAAAAAAAAmM/a_Irg7ovtCk/s50-c-k-no/photo.jpg",
            "userId": "117658589879094178010"
          }
        }
      },
      "cell_type": "code",
      "source": [
        "len(train_labels)"
      ],
      "execution_count": 11,
      "outputs": [
        {
          "output_type": "execute_result",
          "data": {
            "text/plain": [
              "60000"
            ]
          },
          "metadata": {
            "tags": []
          },
          "execution_count": 11
        }
      ]
    },
    {
      "metadata": {
        "id": "landU_v0bOPd",
        "colab_type": "code",
        "colab": {
          "autoexec": {
            "startup": false,
            "wait_interval": 0
          },
          "base_uri": "https://localhost:8080/",
          "height": 34
        },
        "outputId": "2b0154fa-a59a-45a3-dc6b-0ee4a7138c2c",
        "executionInfo": {
          "status": "ok",
          "timestamp": 1530811373404,
          "user_tz": -300,
          "elapsed": 7112,
          "user": {
            "displayName": "Muhammad Shayan",
            "photoUrl": "//lh6.googleusercontent.com/-OQHqCiutbHI/AAAAAAAAAAI/AAAAAAAAAmM/a_Irg7ovtCk/s50-c-k-no/photo.jpg",
            "userId": "117658589879094178010"
          }
        }
      },
      "cell_type": "code",
      "source": [
        "train_labels"
      ],
      "execution_count": 12,
      "outputs": [
        {
          "output_type": "execute_result",
          "data": {
            "text/plain": [
              "array([5, 0, 4, ..., 5, 6, 8], dtype=uint8)"
            ]
          },
          "metadata": {
            "tags": []
          },
          "execution_count": 12
        }
      ]
    },
    {
      "metadata": {
        "id": "L8F5APbhbOIm",
        "colab_type": "code",
        "colab": {
          "autoexec": {
            "startup": false,
            "wait_interval": 0
          },
          "base_uri": "https://localhost:8080/",
          "height": 37
        },
        "outputId": "1bb270f1-892b-4748-a799-0b02e71bf5d3",
        "executionInfo": {
          "status": "ok",
          "timestamp": 1530811385745,
          "user_tz": -300,
          "elapsed": 9870,
          "user": {
            "displayName": "Muhammad Shayan",
            "photoUrl": "//lh6.googleusercontent.com/-OQHqCiutbHI/AAAAAAAAAAI/AAAAAAAAAmM/a_Irg7ovtCk/s50-c-k-no/photo.jpg",
            "userId": "117658589879094178010"
          }
        }
      },
      "cell_type": "code",
      "source": [
        "from keras import models\n",
        "from keras import layers\n",
        "network = models.Sequential()\n",
        "network.add(layers.Dense(512, activation='relu', input_shape=(28 * 28,)))\n",
        "network.add(layers.Dense(10, activation='softmax'))"
      ],
      "execution_count": 13,
      "outputs": []
    },
    {
      "metadata": {
        "id": "SxV9roVPbOBa",
        "colab_type": "code",
        "colab": {
          "autoexec": {
            "startup": false,
            "wait_interval": 0
          },
          "base_uri": "https://localhost:8080/",
          "height": 37
        },
        "outputId": "edb0eded-b24d-450d-fb7e-aa7e0c5d5da6",
        "executionInfo": {
          "status": "ok",
          "timestamp": 1530811485561,
          "user_tz": -300,
          "elapsed": 5014,
          "user": {
            "displayName": "Muhammad Shayan",
            "photoUrl": "//lh6.googleusercontent.com/-OQHqCiutbHI/AAAAAAAAAAI/AAAAAAAAAmM/a_Irg7ovtCk/s50-c-k-no/photo.jpg",
            "userId": "117658589879094178010"
          }
        }
      },
      "cell_type": "code",
      "source": [
        "network.compile(optimizer='rmsprop',loss='categorical_crossentropy',metrics=['accuracy'])"
      ],
      "execution_count": 14,
      "outputs": []
    },
    {
      "metadata": {
        "id": "5__Gq_ZfcD1u",
        "colab_type": "code",
        "colab": {
          "autoexec": {
            "startup": false,
            "wait_interval": 0
          },
          "base_uri": "https://localhost:8080/",
          "height": 37
        },
        "outputId": "dc3c6b50-1c8f-44ad-e680-6adc18dfc7a6",
        "executionInfo": {
          "status": "ok",
          "timestamp": 1530811500375,
          "user_tz": -300,
          "elapsed": 7540,
          "user": {
            "displayName": "Muhammad Shayan",
            "photoUrl": "//lh6.googleusercontent.com/-OQHqCiutbHI/AAAAAAAAAAI/AAAAAAAAAmM/a_Irg7ovtCk/s50-c-k-no/photo.jpg",
            "userId": "117658589879094178010"
          }
        }
      },
      "cell_type": "code",
      "source": [
        "train_images = train_images.reshape((60000, 28 * 28))\n",
        "train_images = train_images.astype('float32') / 255"
      ],
      "execution_count": 15,
      "outputs": []
    },
    {
      "metadata": {
        "id": "vkxRhJkAcKMV",
        "colab_type": "code",
        "colab": {
          "autoexec": {
            "startup": false,
            "wait_interval": 0
          },
          "base_uri": "https://localhost:8080/",
          "height": 37
        },
        "outputId": "85b5896a-ac64-42d3-d151-be4f47e138b0",
        "executionInfo": {
          "status": "ok",
          "timestamp": 1530811534102,
          "user_tz": -300,
          "elapsed": 19404,
          "user": {
            "displayName": "Muhammad Shayan",
            "photoUrl": "//lh6.googleusercontent.com/-OQHqCiutbHI/AAAAAAAAAAI/AAAAAAAAAmM/a_Irg7ovtCk/s50-c-k-no/photo.jpg",
            "userId": "117658589879094178010"
          }
        }
      },
      "cell_type": "code",
      "source": [
        "test_images = test_images.reshape((10000, 28 * 28))\n",
        "test_images = test_images.astype('float32') / 255"
      ],
      "execution_count": 16,
      "outputs": []
    },
    {
      "metadata": {
        "id": "lNEffbDjcORs",
        "colab_type": "code",
        "colab": {
          "autoexec": {
            "startup": false,
            "wait_interval": 0
          },
          "base_uri": "https://localhost:8080/",
          "height": 37
        },
        "outputId": "d7b59382-2f30-45d7-df3f-c75fc6deb470",
        "executionInfo": {
          "status": "ok",
          "timestamp": 1530811555187,
          "user_tz": -300,
          "elapsed": 16246,
          "user": {
            "displayName": "Muhammad Shayan",
            "photoUrl": "//lh6.googleusercontent.com/-OQHqCiutbHI/AAAAAAAAAAI/AAAAAAAAAmM/a_Irg7ovtCk/s50-c-k-no/photo.jpg",
            "userId": "117658589879094178010"
          }
        }
      },
      "cell_type": "code",
      "source": [
        "from keras.utils import to_categorical\n",
        "train_labels = to_categorical(train_labels)\n",
        "test_labels = to_categorical(test_labels)"
      ],
      "execution_count": 17,
      "outputs": []
    },
    {
      "metadata": {
        "id": "aueHZdLdcUds",
        "colab_type": "code",
        "colab": {
          "autoexec": {
            "startup": false,
            "wait_interval": 0
          },
          "base_uri": "https://localhost:8080/",
          "height": 224
        },
        "outputId": "f0ed6ff0-2dd3-4cb9-a192-3bca9a5033b2",
        "executionInfo": {
          "status": "ok",
          "timestamp": 1530811668601,
          "user_tz": -300,
          "elapsed": 61629,
          "user": {
            "displayName": "Muhammad Shayan",
            "photoUrl": "//lh6.googleusercontent.com/-OQHqCiutbHI/AAAAAAAAAAI/AAAAAAAAAmM/a_Irg7ovtCk/s50-c-k-no/photo.jpg",
            "userId": "117658589879094178010"
          }
        }
      },
      "cell_type": "code",
      "source": [
        "network.fit(train_images, train_labels, epochs=5, batch_size=128)"
      ],
      "execution_count": 18,
      "outputs": [
        {
          "output_type": "stream",
          "text": [
            "Epoch 1/5\n",
            "60000/60000 [==============================] - 5s 83us/step - loss: 0.2575 - acc: 0.9261\n",
            "Epoch 2/5\n",
            "60000/60000 [==============================] - 5s 81us/step - loss: 0.1020 - acc: 0.9697\n",
            "Epoch 3/5\n",
            "60000/60000 [==============================] - 5s 83us/step - loss: 0.0678 - acc: 0.9800\n",
            "Epoch 4/5\n",
            "60000/60000 [==============================] - 5s 79us/step - loss: 0.0492 - acc: 0.9852\n",
            "Epoch 5/5\n",
            "13952/60000 [=====>........................] - ETA: 3s - loss: 0.0332 - acc: 0.9900"
          ],
          "name": "stdout"
        },
        {
          "output_type": "stream",
          "text": [
            "60000/60000 [==============================] - 5s 79us/step - loss: 0.0363 - acc: 0.9888\n"
          ],
          "name": "stdout"
        },
        {
          "output_type": "execute_result",
          "data": {
            "text/plain": [
              "<keras.callbacks.History at 0x7f51f58a6dd8>"
            ]
          },
          "metadata": {
            "tags": []
          },
          "execution_count": 18
        }
      ]
    },
    {
      "metadata": {
        "id": "IwAl6d6rcrt8",
        "colab_type": "code",
        "colab": {
          "autoexec": {
            "startup": false,
            "wait_interval": 0
          },
          "base_uri": "https://localhost:8080/",
          "height": 34
        },
        "outputId": "da6fecda-8934-4bec-ec59-cf7f9b301fcd",
        "executionInfo": {
          "status": "ok",
          "timestamp": 1530811688987,
          "user_tz": -300,
          "elapsed": 16604,
          "user": {
            "displayName": "Muhammad Shayan",
            "photoUrl": "//lh6.googleusercontent.com/-OQHqCiutbHI/AAAAAAAAAAI/AAAAAAAAAmM/a_Irg7ovtCk/s50-c-k-no/photo.jpg",
            "userId": "117658589879094178010"
          }
        }
      },
      "cell_type": "code",
      "source": [
        "test_loss, test_acc = network.evaluate(test_images, test_labels)"
      ],
      "execution_count": 19,
      "outputs": [
        {
          "output_type": "stream",
          "text": [
            "10000/10000 [==============================] - 1s 52us/step\n"
          ],
          "name": "stdout"
        }
      ]
    },
    {
      "metadata": {
        "id": "LCjX1Gckczyj",
        "colab_type": "code",
        "colab": {
          "autoexec": {
            "startup": false,
            "wait_interval": 0
          },
          "base_uri": "https://localhost:8080/",
          "height": 34
        },
        "outputId": "46944b64-777c-4cc8-9fc2-b8c36b4382d2",
        "executionInfo": {
          "status": "ok",
          "timestamp": 1530811702800,
          "user_tz": -300,
          "elapsed": 9220,
          "user": {
            "displayName": "Muhammad Shayan",
            "photoUrl": "//lh6.googleusercontent.com/-OQHqCiutbHI/AAAAAAAAAAI/AAAAAAAAAmM/a_Irg7ovtCk/s50-c-k-no/photo.jpg",
            "userId": "117658589879094178010"
          }
        }
      },
      "cell_type": "code",
      "source": [
        "print('test_acc:', test_acc)"
      ],
      "execution_count": 20,
      "outputs": [
        {
          "output_type": "stream",
          "text": [
            "test_acc: 0.9796\n"
          ],
          "name": "stdout"
        }
      ]
    },
    {
      "metadata": {
        "id": "fhqN5tTWdkL6",
        "colab_type": "code",
        "colab": {
          "autoexec": {
            "startup": false,
            "wait_interval": 0
          },
          "base_uri": "https://localhost:8080/",
          "height": 34
        },
        "outputId": "24bcd68b-97b6-444d-9bf2-c1df7c4956b7",
        "executionInfo": {
          "status": "ok",
          "timestamp": 1530811772021,
          "user_tz": -300,
          "elapsed": 8301,
          "user": {
            "displayName": "Muhammad Shayan",
            "photoUrl": "//lh6.googleusercontent.com/-OQHqCiutbHI/AAAAAAAAAAI/AAAAAAAAAmM/a_Irg7ovtCk/s50-c-k-no/photo.jpg",
            "userId": "117658589879094178010"
          }
        }
      },
      "cell_type": "code",
      "source": [
        "import numpy as np\n",
        "x = np.array([12, 3, 6, 14])\n",
        "x\n",
        "x.ndim"
      ],
      "execution_count": 21,
      "outputs": [
        {
          "output_type": "execute_result",
          "data": {
            "text/plain": [
              "1"
            ]
          },
          "metadata": {
            "tags": []
          },
          "execution_count": 21
        }
      ]
    },
    {
      "metadata": {
        "id": "S-Hvc2EQduWM",
        "colab_type": "code",
        "colab": {
          "autoexec": {
            "startup": false,
            "wait_interval": 0
          },
          "base_uri": "https://localhost:8080/",
          "height": 34
        },
        "outputId": "c77ceb72-e03a-484a-891f-1e4c072eaadc",
        "executionInfo": {
          "status": "ok",
          "timestamp": 1530811798766,
          "user_tz": -300,
          "elapsed": 6216,
          "user": {
            "displayName": "Muhammad Shayan",
            "photoUrl": "//lh6.googleusercontent.com/-OQHqCiutbHI/AAAAAAAAAAI/AAAAAAAAAmM/a_Irg7ovtCk/s50-c-k-no/photo.jpg",
            "userId": "117658589879094178010"
          }
        }
      },
      "cell_type": "code",
      "source": [
        "x = np.array([[5, 78, 2, 34, 0],\n",
        "[6, 79, 3, 35, 1],\n",
        "[7, 80, 4, 36, 2]])\n",
        "x.ndim"
      ],
      "execution_count": 22,
      "outputs": [
        {
          "output_type": "execute_result",
          "data": {
            "text/plain": [
              "2"
            ]
          },
          "metadata": {
            "tags": []
          },
          "execution_count": 22
        }
      ]
    },
    {
      "metadata": {
        "id": "SIB4lki_dwrB",
        "colab_type": "code",
        "colab": {
          "autoexec": {
            "startup": false,
            "wait_interval": 0
          },
          "base_uri": "https://localhost:8080/",
          "height": 34
        },
        "outputId": "03eb2507-9ccc-4f5c-e38d-19dc3cd407b6",
        "executionInfo": {
          "status": "ok",
          "timestamp": 1530811863055,
          "user_tz": -300,
          "elapsed": 13422,
          "user": {
            "displayName": "Muhammad Shayan",
            "photoUrl": "//lh6.googleusercontent.com/-OQHqCiutbHI/AAAAAAAAAAI/AAAAAAAAAmM/a_Irg7ovtCk/s50-c-k-no/photo.jpg",
            "userId": "117658589879094178010"
          }
        }
      },
      "cell_type": "code",
      "source": [
        "x = np.array([[[5, 78, 2, 34, 0],\n",
        "[6, 79, 3, 35, 1],\n",
        "[7, 80, 4, 36, 2]],\n",
        "[[5, 78, 2, 34, 0],\n",
        "[6, 79, 3, 35, 1],\n",
        "[7, 80, 4, 36, 2]],\n",
        "[[5, 78, 2, 34, 0],\n",
        "[6, 79, 3, 35, 1],\n",
        "[7, 80, 4, 36, 2]]])\n",
        "x.ndim\n"
      ],
      "execution_count": 24,
      "outputs": [
        {
          "output_type": "execute_result",
          "data": {
            "text/plain": [
              "3"
            ]
          },
          "metadata": {
            "tags": []
          },
          "execution_count": 24
        }
      ]
    },
    {
      "metadata": {
        "id": "rx-tsu5VdrNF",
        "colab_type": "code",
        "colab": {
          "autoexec": {
            "startup": false,
            "wait_interval": 0
          },
          "base_uri": "https://localhost:8080/",
          "height": 37
        },
        "outputId": "d6605b61-f212-41ab-8d5b-1a549107d0c3",
        "executionInfo": {
          "status": "ok",
          "timestamp": 1530811927112,
          "user_tz": -300,
          "elapsed": 4196,
          "user": {
            "displayName": "Muhammad Shayan",
            "photoUrl": "//lh6.googleusercontent.com/-OQHqCiutbHI/AAAAAAAAAAI/AAAAAAAAAmM/a_Irg7ovtCk/s50-c-k-no/photo.jpg",
            "userId": "117658589879094178010"
          }
        }
      },
      "cell_type": "code",
      "source": [
        "from keras.datasets import mnist\n",
        "(train_images, train_labels), (test_images, test_labels) = mnist.load_data()"
      ],
      "execution_count": 25,
      "outputs": []
    },
    {
      "metadata": {
        "id": "kaGiqa1De4Ql",
        "colab_type": "code",
        "colab": {
          "autoexec": {
            "startup": false,
            "wait_interval": 0
          },
          "base_uri": "https://localhost:8080/",
          "height": 34
        },
        "outputId": "7ec7be85-6380-4916-f70b-82854130d5f5",
        "executionInfo": {
          "status": "ok",
          "timestamp": 1530812016483,
          "user_tz": -300,
          "elapsed": 8843,
          "user": {
            "displayName": "Muhammad Shayan",
            "photoUrl": "//lh6.googleusercontent.com/-OQHqCiutbHI/AAAAAAAAAAI/AAAAAAAAAmM/a_Irg7ovtCk/s50-c-k-no/photo.jpg",
            "userId": "117658589879094178010"
          }
        }
      },
      "cell_type": "code",
      "source": [
        "print(train_images.ndim)"
      ],
      "execution_count": 26,
      "outputs": [
        {
          "output_type": "stream",
          "text": [
            "3\n"
          ],
          "name": "stdout"
        }
      ]
    },
    {
      "metadata": {
        "id": "pHCSkKHMe_iW",
        "colab_type": "code",
        "colab": {
          "autoexec": {
            "startup": false,
            "wait_interval": 0
          },
          "base_uri": "https://localhost:8080/",
          "height": 34
        },
        "outputId": "335d54c3-e991-41eb-c111-fd819bf98bf0",
        "executionInfo": {
          "status": "ok",
          "timestamp": 1530812184332,
          "user_tz": -300,
          "elapsed": 2698,
          "user": {
            "displayName": "Muhammad Shayan",
            "photoUrl": "//lh6.googleusercontent.com/-OQHqCiutbHI/AAAAAAAAAAI/AAAAAAAAAmM/a_Irg7ovtCk/s50-c-k-no/photo.jpg",
            "userId": "117658589879094178010"
          }
        }
      },
      "cell_type": "code",
      "source": [
        "print(train_images.shape)"
      ],
      "execution_count": 27,
      "outputs": [
        {
          "output_type": "stream",
          "text": [
            "(60000, 28, 28)\n"
          ],
          "name": "stdout"
        }
      ]
    },
    {
      "metadata": {
        "id": "iqcwQZthfGjr",
        "colab_type": "code",
        "colab": {
          "autoexec": {
            "startup": false,
            "wait_interval": 0
          },
          "base_uri": "https://localhost:8080/",
          "height": 34
        },
        "outputId": "786f3911-19d0-422d-c871-272df277a000",
        "executionInfo": {
          "status": "ok",
          "timestamp": 1530812311588,
          "user_tz": -300,
          "elapsed": 3248,
          "user": {
            "displayName": "Muhammad Shayan",
            "photoUrl": "//lh6.googleusercontent.com/-OQHqCiutbHI/AAAAAAAAAAI/AAAAAAAAAmM/a_Irg7ovtCk/s50-c-k-no/photo.jpg",
            "userId": "117658589879094178010"
          }
        }
      },
      "cell_type": "code",
      "source": [
        "print(train_images.dtype)"
      ],
      "execution_count": 28,
      "outputs": [
        {
          "output_type": "stream",
          "text": [
            "uint8\n"
          ],
          "name": "stdout"
        }
      ]
    },
    {
      "metadata": {
        "id": "NPLhQBybfWMj",
        "colab_type": "code",
        "colab": {
          "autoexec": {
            "startup": false,
            "wait_interval": 0
          },
          "base_uri": "https://localhost:8080/",
          "height": 37
        },
        "outputId": "0cac51eb-f5db-4686-830c-cf60d685f85b",
        "executionInfo": {
          "status": "ok",
          "timestamp": 1530812324253,
          "user_tz": -300,
          "elapsed": 2698,
          "user": {
            "displayName": "Muhammad Shayan",
            "photoUrl": "//lh6.googleusercontent.com/-OQHqCiutbHI/AAAAAAAAAAI/AAAAAAAAAmM/a_Irg7ovtCk/s50-c-k-no/photo.jpg",
            "userId": "117658589879094178010"
          }
        }
      },
      "cell_type": "code",
      "source": [
        "digit = train_images[4]"
      ],
      "execution_count": 29,
      "outputs": []
    },
    {
      "metadata": {
        "id": "ogjV9seDfX8_",
        "colab_type": "code",
        "colab": {
          "autoexec": {
            "startup": false,
            "wait_interval": 0
          },
          "base_uri": "https://localhost:8080/",
          "height": 347
        },
        "outputId": "c29cf6d4-08f5-4886-bcc0-b0ba6ea7609e",
        "executionInfo": {
          "status": "ok",
          "timestamp": 1530812344578,
          "user_tz": -300,
          "elapsed": 12419,
          "user": {
            "displayName": "Muhammad Shayan",
            "photoUrl": "//lh6.googleusercontent.com/-OQHqCiutbHI/AAAAAAAAAAI/AAAAAAAAAmM/a_Irg7ovtCk/s50-c-k-no/photo.jpg",
            "userId": "117658589879094178010"
          }
        }
      },
      "cell_type": "code",
      "source": [
        "import matplotlib.pyplot as plt\n",
        "plt.imshow(digit, cmap=plt.cm.binary)\n",
        "plt.show()"
      ],
      "execution_count": 30,
      "outputs": [
        {
          "output_type": "display_data",
          "data": {
            "image/png": "[encoded data removed]",
            "text/plain": [
              "<matplotlib.figure.Figure at 0x7f51f296a080>"
            ]
          },
          "metadata": {
            "tags": []
          }
        }
      ]
    },
    {
      "metadata": {
        "id": "VxMDNPdKf-UT",
        "colab_type": "code",
        "colab": {
          "autoexec": {
            "startup": false,
            "wait_interval": 0
          },
          "base_uri": "https://localhost:8080/",
          "height": 37
        },
        "outputId": "c0554659-6308-4c60-9f73-799c4160b0c3",
        "executionInfo": {
          "status": "ok",
          "timestamp": 1530812435209,
          "user_tz": -300,
          "elapsed": 9805,
          "user": {
            "displayName": "Muhammad Shayan",
            "photoUrl": "//lh6.googleusercontent.com/-OQHqCiutbHI/AAAAAAAAAAI/AAAAAAAAAmM/a_Irg7ovtCk/s50-c-k-no/photo.jpg",
            "userId": "117658589879094178010"
          }
        }
      },
      "cell_type": "code",
      "source": [
        "my_slice = train_images[10:100]"
      ],
      "execution_count": 31,
      "outputs": []
    },
    {
      "metadata": {
        "id": "KXK6X4pfgAkd",
        "colab_type": "code",
        "colab": {
          "autoexec": {
            "startup": false,
            "wait_interval": 0
          },
          "base_uri": "https://localhost:8080/",
          "height": 34
        },
        "outputId": "8f7c3467-79ae-4e75-ecfc-7bcd4edd2f8f",
        "executionInfo": {
          "status": "ok",
          "timestamp": 1530812454354,
          "user_tz": -300,
          "elapsed": 7464,
          "user": {
            "displayName": "Muhammad Shayan",
            "photoUrl": "//lh6.googleusercontent.com/-OQHqCiutbHI/AAAAAAAAAAI/AAAAAAAAAmM/a_Irg7ovtCk/s50-c-k-no/photo.jpg",
            "userId": "117658589879094178010"
          }
        }
      },
      "cell_type": "code",
      "source": [
        "print(my_slice.shape)"
      ],
      "execution_count": 32,
      "outputs": [
        {
          "output_type": "stream",
          "text": [
            "(90, 28, 28)\n"
          ],
          "name": "stdout"
        }
      ]
    },
    {
      "metadata": {
        "id": "YTaPNU4tgOmb",
        "colab_type": "code",
        "colab": {
          "autoexec": {
            "startup": false,
            "wait_interval": 0
          },
          "base_uri": "https://localhost:8080/",
          "height": 34
        },
        "outputId": "0028a48d-f5d4-4075-f877-1c1f4d69249b",
        "executionInfo": {
          "status": "ok",
          "timestamp": 1530812466527,
          "user_tz": -300,
          "elapsed": 4551,
          "user": {
            "displayName": "Muhammad Shayan",
            "photoUrl": "//lh6.googleusercontent.com/-OQHqCiutbHI/AAAAAAAAAAI/AAAAAAAAAmM/a_Irg7ovtCk/s50-c-k-no/photo.jpg",
            "userId": "117658589879094178010"
          }
        }
      },
      "cell_type": "code",
      "source": [
        "my_slice = train_images[10:100, :, :]\n",
        "my_slice.shape"
      ],
      "execution_count": 33,
      "outputs": [
        {
          "output_type": "execute_result",
          "data": {
            "text/plain": [
              "(90, 28, 28)"
            ]
          },
          "metadata": {
            "tags": []
          },
          "execution_count": 33
        }
      ]
    },
    {
      "metadata": {
        "id": "SNuL9J5egOwq",
        "colab_type": "code",
        "colab": {
          "autoexec": {
            "startup": false,
            "wait_interval": 0
          },
          "base_uri": "https://localhost:8080/",
          "height": 34
        },
        "outputId": "f9c8fb6b-24b4-4cdc-c8aa-fc72b30886cd",
        "executionInfo": {
          "status": "ok",
          "timestamp": 1530812475855,
          "user_tz": -300,
          "elapsed": 5149,
          "user": {
            "displayName": "Muhammad Shayan",
            "photoUrl": "//lh6.googleusercontent.com/-OQHqCiutbHI/AAAAAAAAAAI/AAAAAAAAAmM/a_Irg7ovtCk/s50-c-k-no/photo.jpg",
            "userId": "117658589879094178010"
          }
        }
      },
      "cell_type": "code",
      "source": [
        "my_slice = train_images[10:100, 0:28, 0:28]\n",
        "my_slice.shape"
      ],
      "execution_count": 34,
      "outputs": [
        {
          "output_type": "execute_result",
          "data": {
            "text/plain": [
              "(90, 28, 28)"
            ]
          },
          "metadata": {
            "tags": []
          },
          "execution_count": 34
        }
      ]
    },
    {
      "metadata": {
        "id": "g8kJen5Rgyd0",
        "colab_type": "code",
        "colab": {
          "autoexec": {
            "startup": false,
            "wait_interval": 0
          },
          "base_uri": "https://localhost:8080/",
          "height": 37
        },
        "outputId": "772cde39-9b49-47b3-ccb9-84d210d00eaa",
        "executionInfo": {
          "status": "ok",
          "timestamp": 1530812504109,
          "user_tz": -300,
          "elapsed": 9795,
          "user": {
            "displayName": "Muhammad Shayan",
            "photoUrl": "//lh6.googleusercontent.com/-OQHqCiutbHI/AAAAAAAAAAI/AAAAAAAAAmM/a_Irg7ovtCk/s50-c-k-no/photo.jpg",
            "userId": "117658589879094178010"
          }
        }
      },
      "cell_type": "code",
      "source": [
        "my_slice = train_images[:, 14:, 14:]"
      ],
      "execution_count": 35,
      "outputs": []
    },
    {
      "metadata": {
        "id": "8jei3aUJhKVq",
        "colab_type": "code",
        "colab": {
          "autoexec": {
            "startup": false,
            "wait_interval": 0
          },
          "base_uri": "https://localhost:8080/",
          "height": 37
        },
        "outputId": "9dc7f6de-a830-4504-cb30-8dba908ca725",
        "executionInfo": {
          "status": "ok",
          "timestamp": 1530812511949,
          "user_tz": -300,
          "elapsed": 5677,
          "user": {
            "displayName": "Muhammad Shayan",
            "photoUrl": "//lh6.googleusercontent.com/-OQHqCiutbHI/AAAAAAAAAAI/AAAAAAAAAmM/a_Irg7ovtCk/s50-c-k-no/photo.jpg",
            "userId": "117658589879094178010"
          }
        }
      },
      "cell_type": "code",
      "source": [
        "my_slice = train_images[:, 7:-7, 7:-7]"
      ],
      "execution_count": 36,
      "outputs": []
    },
    {
      "metadata": {
        "id": "V55AAUhOhpzx",
        "colab_type": "code",
        "colab": {
          "autoexec": {
            "startup": false,
            "wait_interval": 0
          },
          "base_uri": "https://localhost:8080/",
          "height": 37
        },
        "outputId": "b9b93a75-d49a-4df6-cd5b-c8d4393a3594",
        "executionInfo": {
          "status": "ok",
          "timestamp": 1530812625824,
          "user_tz": -300,
          "elapsed": 19082,
          "user": {
            "displayName": "Muhammad Shayan",
            "photoUrl": "//lh6.googleusercontent.com/-OQHqCiutbHI/AAAAAAAAAAI/AAAAAAAAAmM/a_Irg7ovtCk/s50-c-k-no/photo.jpg",
            "userId": "117658589879094178010"
          }
        }
      },
      "cell_type": "code",
      "source": [
        "batch = train_images[:128]"
      ],
      "execution_count": 37,
      "outputs": []
    },
    {
      "metadata": {
        "id": "KdfT5GGEhtCn",
        "colab_type": "code",
        "colab": {
          "autoexec": {
            "startup": false,
            "wait_interval": 0
          },
          "base_uri": "https://localhost:8080/",
          "height": 37
        },
        "outputId": "d1b7b53c-83b4-488a-bf97-6cf9ac545043",
        "executionInfo": {
          "status": "ok",
          "timestamp": 1530812674114,
          "user_tz": -300,
          "elapsed": 17011,
          "user": {
            "displayName": "Muhammad Shayan",
            "photoUrl": "//lh6.googleusercontent.com/-OQHqCiutbHI/AAAAAAAAAAI/AAAAAAAAAmM/a_Irg7ovtCk/s50-c-k-no/photo.jpg",
            "userId": "117658589879094178010"
          }
        }
      },
      "cell_type": "code",
      "source": [
        "batch = train_images[128:256]"
      ],
      "execution_count": 38,
      "outputs": []
    },
    {
      "metadata": {
        "id": "Zxs6Get9hs_H",
        "colab_type": "code",
        "colab": {
          "autoexec": {
            "startup": false,
            "wait_interval": 0
          },
          "base_uri": "https://localhost:8080/",
          "height": 34
        },
        "outputId": "5505d835-f397-418d-8935-52b5fa495807",
        "executionInfo": {
          "status": "ok",
          "timestamp": 1530812749405,
          "user_tz": -300,
          "elapsed": 15251,
          "user": {
            "displayName": "Muhammad Shayan",
            "photoUrl": "//lh6.googleusercontent.com/-OQHqCiutbHI/AAAAAAAAAAI/AAAAAAAAAmM/a_Irg7ovtCk/s50-c-k-no/photo.jpg",
            "userId": "117658589879094178010"
          }
        }
      },
      "cell_type": "code",
      "source": [
        "import keras\n",
        "keras.layers.Dense(512, activation='relu')"
      ],
      "execution_count": 39,
      "outputs": [
        {
          "output_type": "execute_result",
          "data": {
            "text/plain": [
              "<keras.layers.core.Dense at 0x7f51f31979b0>"
            ]
          },
          "metadata": {
            "tags": []
          },
          "execution_count": 39
        }
      ]
    },
    {
      "metadata": {
        "id": "6iq4w-bghs9H",
        "colab_type": "code",
        "colab": {
          "autoexec": {
            "startup": false,
            "wait_interval": 0
          },
          "base_uri": "https://localhost:8080/",
          "height": 37
        },
        "outputId": "fc3ac35c-2ccd-4a70-a5d9-004c8b3614c2",
        "executionInfo": {
          "status": "ok",
          "timestamp": 1530812967635,
          "user_tz": -300,
          "elapsed": 11828,
          "user": {
            "displayName": "Muhammad Shayan",
            "photoUrl": "//lh6.googleusercontent.com/-OQHqCiutbHI/AAAAAAAAAAI/AAAAAAAAAmM/a_Irg7ovtCk/s50-c-k-no/photo.jpg",
            "userId": "117658589879094178010"
          }
        }
      },
      "cell_type": "code",
      "source": [
        "train_images = train_images.reshape((60000, 28 * 28))"
      ],
      "execution_count": 41,
      "outputs": []
    }
  ]
}